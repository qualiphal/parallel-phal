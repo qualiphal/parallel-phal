{
  "nbformat": 4,
  "nbformat_minor": 0,
  "metadata": {
    "colab": {
      "name": "hpc project bechmarks.ipynb",
      "provenance": [],
      "collapsed_sections": [],
      "toc_visible": true
    },
    "kernelspec": {
      "name": "python3",
      "display_name": "Python 3"
    },
    "accelerator": "GPU"
  },
  "cells": [
    {
      "cell_type": "code",
      "metadata": {
        "id": "ECZlE0akk7n3"
      },
      "source": [
        "from random import randint\n",
        "from timeit import default_timer\n",
        "size = 100\n",
        "mat_1 = [[randint(0, size) for _ in range(size)] for _ in range(size)]\n",
        "mat_2 = [[randint(0, size) for _ in range(size)] for _ in range(size)]\n",
        "result = [[0 for _ in range(size)] for _ in range(size)]"
      ],
      "execution_count": null,
      "outputs": []
    },
    {
      "cell_type": "markdown",
      "metadata": {
        "id": "w86pNDSEl1Mb"
      },
      "source": [
        "### 1. Serial Implementation"
      ]
    },
    {
      "cell_type": "code",
      "metadata": {
        "colab": {
          "base_uri": "https://localhost:8080/"
        },
        "id": "KfQHm2YrlZUf",
        "outputId": "313c6523-07c4-4408-cc0e-65e716197b9f"
      },
      "source": [
        "starttime = default_timer()\n",
        "\n",
        "for i in range(size):\n",
        "   for j in range(size):\n",
        "       for k in range(size):\n",
        "           result[i][j] += mat_1[i][k] * mat_2[k][j]\n",
        "\n",
        "t1 = default_timer() - starttime\n",
        "print(\"Serial Time Taken :\", t1)\n",
        "result = [[0 for _ in range(size)] for _ in range(size)]"
      ],
      "execution_count": null,
      "outputs": [
        {
          "output_type": "stream",
          "text": [
            "Serial Time Taken : 0.4240078129998892\n"
          ],
          "name": "stdout"
        }
      ]
    },
    {
      "cell_type": "markdown",
      "metadata": {
        "id": "cwlRL9tsl82f"
      },
      "source": [
        "### 2. Data Parallel Implementation"
      ]
    },
    {
      "cell_type": "code",
      "metadata": {
        "colab": {
          "base_uri": "https://localhost:8080/"
        },
        "id": "7_IBYqCBpv4M",
        "outputId": "f5f9bd3c-dbfa-4513-af8c-8d6cdfd3f816"
      },
      "source": [
        "!pip install -q pymp-pypi\n",
        "import pymp\n",
        "\n",
        "starttime = default_timer()\n",
        "res_arr = pymp.shared.array((size, size), dtype='uint8')\n",
        "with pymp.Parallel(2) as p:\n",
        "    for i in p.range(size):\n",
        "      for j in range(size):\n",
        "          for k in range(size):\n",
        "              res_arr[i][j] += mat_1[i][k] * mat_2[k][j]\n",
        "\n",
        "t2 = default_timer() - starttime\n",
        "print(\"Parallel Time Taken :\", t2)"
      ],
      "execution_count": null,
      "outputs": [
        {
          "output_type": "stream",
          "text": [
            "Parallel Time Taken : 3.070237331000044\n"
          ],
          "name": "stdout"
        }
      ]
    },
    {
      "cell_type": "markdown",
      "metadata": {
        "id": "cNIa6JRumAfR"
      },
      "source": [
        "### 3. Numpy"
      ]
    },
    {
      "cell_type": "code",
      "metadata": {
        "colab": {
          "base_uri": "https://localhost:8080/"
        },
        "id": "kgnv3L2BqRHA",
        "outputId": "613ccb2b-114c-41d1-e15c-15eb9c835540"
      },
      "source": [
        "import numpy as np \n",
        "\n",
        "starttime = default_timer()\n",
        "\n",
        "res = np.dot(mat_1,mat_2) \n",
        "\n",
        "t3 = default_timer() - starttime\n",
        "print(\"Numpy Time Taken :\", t3)"
      ],
      "execution_count": null,
      "outputs": [
        {
          "output_type": "stream",
          "text": [
            "Numpy Time Taken : 0.004947687999901973\n"
          ],
          "name": "stdout"
        }
      ]
    },
    {
      "cell_type": "markdown",
      "metadata": {
        "id": "GUx28kjzmC_C"
      },
      "source": [
        "### 4. Scipy"
      ]
    },
    {
      "cell_type": "code",
      "metadata": {
        "colab": {
          "base_uri": "https://localhost:8080/"
        },
        "id": "KrC3_C3_rOid",
        "outputId": "05da5b5c-ac51-4b0f-a3ef-b5d39b6c67bf"
      },
      "source": [
        "from scipy import sparse\n",
        "\n",
        "m1 = sparse.csr_matrix(mat_1)\n",
        "m2 = sparse.csr_matrix(mat_2)\n",
        "starttime = default_timer()\n",
        "\n",
        "res = m1.multiply(m2)\n",
        "\n",
        "t4 = default_timer() - starttime\n",
        "print(\"Scipy Time Taken :\", t4)"
      ],
      "execution_count": null,
      "outputs": [
        {
          "output_type": "stream",
          "text": [
            "Scipy Time Taken : 0.0029525400000238733\n"
          ],
          "name": "stdout"
        }
      ]
    },
    {
      "cell_type": "markdown",
      "metadata": {
        "id": "xrIy9lZbmGYr"
      },
      "source": [
        "### 5. Pandas"
      ]
    },
    {
      "cell_type": "code",
      "metadata": {
        "colab": {
          "base_uri": "https://localhost:8080/"
        },
        "id": "wW_xdy2Ir3q_",
        "outputId": "4ee362df-a06b-4519-f06a-d4eb42902135"
      },
      "source": [
        "import numpy as np\n",
        "import pandas as pd\n",
        "\n",
        "\n",
        "df_1 = pd.DataFrame(mat_1)\n",
        "df_2 = pd.DataFrame(mat_2)\n",
        "\n",
        "starttime = default_timer()\n",
        "df_1.dot(df_2)\n",
        "\n",
        "t5 = default_timer() - starttime\n",
        "print(\"Pandas Time Taken :\", t5)"
      ],
      "execution_count": null,
      "outputs": [
        {
          "output_type": "stream",
          "text": [
            "Pandas Time Taken : 0.0017128819999925327\n"
          ],
          "name": "stdout"
        }
      ]
    },
    {
      "cell_type": "markdown",
      "metadata": {
        "id": "hOY7ZfKmmMKo"
      },
      "source": [
        "### 6. Sympy"
      ]
    },
    {
      "cell_type": "code",
      "metadata": {
        "colab": {
          "base_uri": "https://localhost:8080/"
        },
        "id": "0orItzHMsTlI",
        "outputId": "4603ba14-14f6-4a35-c175-399572c96e68"
      },
      "source": [
        "from sympy import Matrix\n",
        "m1 = Matrix(mat_1)\n",
        "m2 = Matrix(mat_2)\n",
        "\n",
        "starttime = default_timer()\n",
        "r = m1*m2\n",
        "\n",
        "t6 = default_timer() - starttime\n",
        "print(\"Sympy Time Taken :\", t6)"
      ],
      "execution_count": null,
      "outputs": [
        {
          "output_type": "stream",
          "text": [
            "Sympy Time Taken : 9.038939131000006\n"
          ],
          "name": "stdout"
        }
      ]
    },
    {
      "cell_type": "markdown",
      "metadata": {
        "id": "0rkktKyVmPFA"
      },
      "source": [
        "### 7. Numba"
      ]
    },
    {
      "cell_type": "code",
      "metadata": {
        "colab": {
          "base_uri": "https://localhost:8080/"
        },
        "id": "MDhksAkZtKEd",
        "outputId": "ec7f773c-7f19-4354-8840-f8744343789c"
      },
      "source": [
        "import numpy as np\n",
        "import timeit\n",
        "from numba import jit, float64, prange\n",
        "\n",
        "@jit('float64[:,:](float64[:,:],float64[:,:])', parallel=True, nopython=True)\n",
        "def matmul(A, B):\n",
        "    C = np.zeros((A.shape[0], B.shape[1]))\n",
        "    for i in prange(A.shape[0]):\n",
        "        for j in prange(B.shape[1]):\n",
        "            for k in range(A.shape[0]):\n",
        "                C[i,j] = C[i,j] + A[i,k]*B[k,j]\n",
        "    return C\n",
        "\n",
        "A = np.random.rand(size, size)\n",
        "B = np.random.rand(size, size)\n",
        "\n",
        "start = default_timer()\n",
        "\n",
        "matmul(A, B)\n",
        "\n",
        "t7 = default_timer() - start\n",
        "\n",
        "print(\"Numba Time Taken :\", t7) "
      ],
      "execution_count": null,
      "outputs": [
        {
          "output_type": "stream",
          "text": [
            "/usr/local/lib/python3.7/dist-packages/numba/np/ufunc/parallel.py:363: NumbaWarning: The TBB threading layer requires TBB version 2019.5 or later i.e., TBB_INTERFACE_VERSION >= 11005. Found TBB_INTERFACE_VERSION = 9107. The TBB threading layer is disabled.\n",
            "  warnings.warn(problem)\n"
          ],
          "name": "stderr"
        },
        {
          "output_type": "stream",
          "text": [
            "Numba Time Taken : 0.0013237749999461812\n"
          ],
          "name": "stdout"
        }
      ]
    },
    {
      "cell_type": "markdown",
      "metadata": {
        "id": "osZFQPtfmVKB"
      },
      "source": [
        "### 8. Linalg"
      ]
    },
    {
      "cell_type": "code",
      "metadata": {
        "colab": {
          "base_uri": "https://localhost:8080/"
        },
        "id": "a66_p8GAv8DB",
        "outputId": "ef4b6f33-ffa5-4b0d-c019-57cda115ee46"
      },
      "source": [
        "from numpy.linalg import multi_dot\n",
        "\n",
        "start = default_timer()\n",
        "\n",
        "_ = multi_dot([mat_1, mat_2])\n",
        "\n",
        "t8 = default_timer() - start\n",
        "\n",
        "print(\"linalg Time Taken :\", t8) "
      ],
      "execution_count": null,
      "outputs": [
        {
          "output_type": "stream",
          "text": [
            "linalg Time Taken : 0.004973874999905092\n"
          ],
          "name": "stdout"
        }
      ]
    },
    {
      "cell_type": "markdown",
      "metadata": {
        "id": "Z_6rhnJdmZoh"
      },
      "source": [
        "### 9. Pymatrix"
      ]
    },
    {
      "cell_type": "code",
      "metadata": {
        "colab": {
          "base_uri": "https://localhost:8080/"
        },
        "id": "FB-lN6XFwMjo",
        "outputId": "53434d00-d6b1-4423-f89e-1520f43e12cf"
      },
      "source": [
        "!wget https://raw.githubusercontent.com/dthul/pymatrix/master/matrix.py\n",
        "import sys\n",
        "sys.path.append('/content/')\n",
        "\n",
        "from matrix import Matrix\n",
        "m1 = Matrix(mat_1)\n",
        "m2 = Matrix(mat_2)\n",
        "\n",
        "start = default_timer()\n",
        "\n",
        "res = m1 * m2\n",
        "\n",
        "t9 = default_timer() - start\n",
        "\n",
        "print(\"pymatrix Time Taken :\", t9) "
      ],
      "execution_count": null,
      "outputs": [
        {
          "output_type": "stream",
          "text": [
            "--2021-04-27 14:43:17--  https://raw.githubusercontent.com/dthul/pymatrix/master/matrix.py\n",
            "Resolving raw.githubusercontent.com (raw.githubusercontent.com)... 185.199.111.133, 185.199.109.133, 185.199.108.133, ...\n",
            "Connecting to raw.githubusercontent.com (raw.githubusercontent.com)|185.199.111.133|:443... connected.\n",
            "HTTP request sent, awaiting response... 200 OK\n",
            "Length: 16087 (16K) [text/plain]\n",
            "Saving to: ‘matrix.py’\n",
            "\n",
            "matrix.py           100%[===================>]  15.71K  --.-KB/s    in 0s      \n",
            "\n",
            "2021-04-27 14:43:17 (111 MB/s) - ‘matrix.py’ saved [16087/16087]\n",
            "\n",
            "pymatrix Time Taken : 0.34896002799996495\n"
          ],
          "name": "stdout"
        }
      ]
    },
    {
      "cell_type": "markdown",
      "metadata": {
        "id": "CFdjUIA3mdr4"
      },
      "source": [
        "### 10. Tensorflow"
      ]
    },
    {
      "cell_type": "code",
      "metadata": {
        "colab": {
          "base_uri": "https://localhost:8080/"
        },
        "id": "XirMS0wxz1yG",
        "outputId": "23b161b8-cc0a-43d1-d596-90b7b4f8b9d8"
      },
      "source": [
        "from tensorflow.linalg import matmul\n",
        "\n",
        "start = default_timer()\n",
        "\n",
        "_ = matmul(mat_1, mat_2)\n",
        "\n",
        "t10 = default_timer() - start\n",
        "\n",
        "print(\"tensorflow Time Taken :\", t10) "
      ],
      "execution_count": null,
      "outputs": [
        {
          "output_type": "stream",
          "text": [
            "tensorflow Time Taken : 5.036223599000095\n"
          ],
          "name": "stdout"
        }
      ]
    },
    {
      "cell_type": "markdown",
      "metadata": {
        "id": "z5hKfI5Dmklv"
      },
      "source": [
        "### 12. Pymc"
      ]
    },
    {
      "cell_type": "code",
      "metadata": {
        "colab": {
          "base_uri": "https://localhost:8080/"
        },
        "id": "OttGL7Xiz3Jh",
        "outputId": "f3256b08-98e3-4363-db37-2ac0ab697474"
      },
      "source": [
        "!pip install -q pymc3\n",
        "import pymc3 as pm\n",
        "\n",
        "start = default_timer()\n",
        "\n",
        "res = pm.math.dot(mat_1, mat_2)\n",
        "t12 = default_timer() - start\n",
        "\n",
        "print(\"pymc Time Taken :\", t12) "
      ],
      "execution_count": null,
      "outputs": [
        {
          "output_type": "stream",
          "text": [
            "pymc Time Taken : 0.006076633000020593\n"
          ],
          "name": "stdout"
        }
      ]
    },
    {
      "cell_type": "code",
      "metadata": {
        "colab": {
          "base_uri": "https://localhost:8080/"
        },
        "id": "SIBBWHZULoue",
        "outputId": "b90da39e-5fba-4eac-fe1d-332d44300374"
      },
      "source": [
        "import numpy as np\n",
        "from functools import lru_cache, wraps\n",
        "import numpy as np\n",
        "\n",
        "def np_cache(*args, **kwargs):\n",
        "    \"\"\"LRU cache implementation for functions whose FIRST parameter is a numpy array\n",
        "    >>> array = np.array([[1, 2, 3], [4, 5, 6]])\n",
        "    >>> @np_cache(maxsize=256)\n",
        "    ... def multiply(array, factor):\n",
        "    ...     print(\"Calculating...\")\n",
        "    ...     return factor*array\n",
        "    >>> multiply(array, 2)\n",
        "    Calculating...\n",
        "    array([[ 2,  4,  6],\n",
        "           [ 8, 10, 12]])\n",
        "    >>> multiply(array, 2)\n",
        "    array([[ 2,  4,  6],\n",
        "           [ 8, 10, 12]])\n",
        "    >>> multiply.cache_info()\n",
        "    CacheInfo(hits=1, misses=1, maxsize=256, currsize=1)\n",
        "    \n",
        "    \"\"\"\n",
        "    def decorator(function):\n",
        "        @wraps(function)\n",
        "        def wrapper(np_array, *args, **kwargs):\n",
        "            hashable_array = array_to_tuple(np_array)\n",
        "            return cached_wrapper(hashable_array, *args, **kwargs)\n",
        "\n",
        "        @lru_cache(*args, **kwargs)\n",
        "        def cached_wrapper(hashable_array, *args, **kwargs):\n",
        "            array = np.array(hashable_array)\n",
        "            return function(array, *args, **kwargs)\n",
        "\n",
        "        def array_to_tuple(np_array):\n",
        "            \"\"\"Iterates recursivelly.\"\"\"\n",
        "            try:\n",
        "                return tuple(array_to_tuple(_) for _ in np_array)\n",
        "            except TypeError:\n",
        "                return np_array\n",
        "\n",
        "        # copy lru_cache attributes over too\n",
        "        wrapper.cache_info = cached_wrapper.cache_info\n",
        "        wrapper.cache_clear = cached_wrapper.cache_clear\n",
        "\n",
        "        return wrapper\n",
        "\n",
        "    return decorator\n",
        "\n",
        "@np_cache(maxsize=256)\n",
        "def sq_cache(array):\n",
        "    return array*array\n",
        "    \n",
        "starttime = default_timer()\n",
        "\n",
        "l1 = np.array(mat_1)\n",
        "\n",
        "sq_cache(l1)\n",
        "\n",
        "t13 = default_timer() - starttime\n",
        "print(\"Custom Time Taken :\", t13)"
      ],
      "execution_count": null,
      "outputs": [
        {
          "output_type": "stream",
          "text": [
            "Custom Time Taken : 0.009742387999722268\n"
          ],
          "name": "stdout"
        }
      ]
    },
    {
      "cell_type": "code",
      "metadata": {
        "colab": {
          "base_uri": "https://localhost:8080/",
          "height": 227
        },
        "id": "ry8SRpWT17ki",
        "outputId": "aefa0a60-8275-4f1b-e537-e1a5bc368191"
      },
      "source": [
        "import matplotlib.pyplot as plt\n",
        "fig, ax = plt.subplots()\n",
        "\n",
        "\n",
        "# methods = ['Serial','Parallel','Numpy','Scipy','Pandas','Sympy','Numba','Linalg','Pymatrix','TF','Pymc','Custom']\n",
        "# times = [t1, t2, t3, t4, t5, t6, t7, t8, t9, t10, t12, t13]\n",
        "\n",
        "methods = ['Serial','Parallel','Sympy','Pymatrix','TF','Pymc','Custom']\n",
        "times = [t1, t2, t6, t9, t10, t12, t13]\n",
        "ax.bar(methods,times)\n",
        "ax.set_ylabel('Time in Seconds')\n",
        "ax.set_title(f'Speedup Matrix Multiplication ({size}*{size})')\n",
        "\n",
        "fig.set_size_inches(10, 3)\n",
        "\n",
        "plt.yscale('log')\n",
        "plt.show()"
      ],
      "execution_count": null,
      "outputs": [
        {
          "output_type": "display_data",
          "data": {
            "image/png": "[encoded data removed]",
            "text/plain": [
              "<Figure size 720x216 with 1 Axes>"
            ]
          },
          "metadata": {
            "tags": [],
            "needs_background": "light"
          }
        }
      ]
    }
  ]
}